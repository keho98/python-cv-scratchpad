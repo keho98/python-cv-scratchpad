{
 "cells": [
  {
   "cell_type": "code",
   "execution_count": null,
   "metadata": {
    "collapsed": true
   },
   "outputs": [],
   "source": [
    "# Harris Corner Detection\n",
    "# Locate interest points where the surrounding neighborhood shows edges in more that one direction\n",
    "# Construct a Harris matrix from the image gradient, which is an averaging of the gradient over\n",
    "# neighboring pixels. There will be one Harris matrix for each point in the image. Averaging will cause the \n",
    "# eigenvalues of matrix will indicate whether there is a corner.\n",
    "\n",
    "import numpy as np\n",
    "from scipy.ndimage import filters\n",
    "\n",
    "def compute_harris_response(img, sigma=3):\n",
    "    img_x = np.ze"
   ]
  }
 ],
 "metadata": {
  "kernelspec": {
   "display_name": "Python 2",
   "language": "python",
   "name": "python2"
  },
  "language_info": {
   "codemirror_mode": {
    "name": "ipython",
    "version": 2
   },
   "file_extension": ".py",
   "mimetype": "text/x-python",
   "name": "python",
   "nbconvert_exporter": "python",
   "pygments_lexer": "ipython2",
   "version": "2.7.6"
  }
 },
 "nbformat": 4,
 "nbformat_minor": 0
}
