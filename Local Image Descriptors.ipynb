{
 "cells": [
  {
   "cell_type": "code",
   "execution_count": 5,
   "metadata": {
    "collapsed": false
   },
   "outputs": [],
   "source": [
    "# Harris Corner Detection\n",
    "# Locate interest points where the surrounding neighborhood shows edges in more that one direction\n",
    "# Construct a Harris matrix from the image gradient, which is an averaging of the gradient over\n",
    "# neighboring pixels. There will be one Harris matrix for each point in the image. Averaging will cause the \n",
    "# eigenvalues of matrix will indicate whether there is a corner.\n",
    "\n",
    "import numpy as np\n",
    "from scipy.ndimage import filters\n",
    "\n",
    "def compute_harris_response(img, sigma=3):\n",
    "    \"\"\"\n",
    "    Returns a matrix with each pixel containing the value of the Harris Response\n",
    "    \"\"\"\n",
    "    \n",
    "    # Compute weight matrices (gaussians)\n",
    "    img_x = np.zeros(img.shape)\n",
    "    filters.gaussian_filter(img, (sigma,sigma), (0,1), img_x)\n",
    "    img_y = np.zeros(img.shape)\n",
    "    filters.gaussian_filter(im, (sigma,sigma), (1,0), imy)\n",
    "    \n",
    "    # Compute Harris Matrix Components\n",
    "    Wxx = filters.gaussian_filter(img_x*img_x,sigma)\n",
    "    Wxy = filters.gaussian_filter(img_x*img_y,sigma)\n",
    "    Wyy = filters.gaussian_filter(img_y*img_y,sigma)\n",
    "    \n",
    "    # Determinant and Trace\n",
    "    Wdet = Wxx*Wyy - Wxy**2\n",
    "    Wtr = Wxx+Wyy\n",
    "    \n",
    "    return Wdet / Wtr\n",
    "    \n",
    "def get_harris_points(harris_img, min_dist=10, threshold=0.1):\n",
    "    \"\"\" Return corners as points from a Harris response image\n",
    "    min_dist is the minimum number of pixels separating\n",
    "    corners and image boundary. \"\"\"\n",
    "    \n",
    "    # find top corner candidates above a threshold\n",
    "    corner_threshold = harris_img.max() * threshold\n",
    "    harris_img_t = (harris_img > corner_threshold) * 1\n",
    "    \n",
    "    # Get coordinate candidates and their corners\n",
    "    coords = np.array(harris_img_t.nonzero()).T\n",
    "    candidate_values = [harris_img[c[0],c[1]] for c in coords]\n",
    "    \n",
    "    # Sort candidates\n",
    "    index = np.argsort(candidate_values)\n",
    "    \n",
    "    # Store allowed point locations in array\n",
    "    allowed_points = zeros(harris_img.shape)\n",
    "    allowed_locations[min_dist:-min_dist,min_dist:-min_dist] = 1\n",
    "    \n",
    "    # select the best points taking min_distance into account\n",
    "    filtered_coords = []\n",
    "    for i in index:\n",
    "        if allowed_locations[coords[i,0], coords[i,1]] == 1:\n",
    "            filtered_coords.append(coords[i])\n",
    "            allowed_locations[(coords[i,0]-min_dist):(coords[i,0]+min_dist), \n",
    "                              (coords[i,1]-min_dist):(coords[i,1]+min_dist)] = 0\n",
    "        \n",
    "    return filtered_coords\n",
    "    \n",
    "    "
   ]
  },
  {
   "cell_type": "code",
   "execution_count": null,
   "metadata": {
    "collapsed": true
   },
   "outputs": [],
   "source": []
  }
 ],
 "metadata": {
  "kernelspec": {
   "display_name": "Python 2",
   "language": "python",
   "name": "python2"
  },
  "language_info": {
   "codemirror_mode": {
    "name": "ipython",
    "version": 2
   },
   "file_extension": ".py",
   "mimetype": "text/x-python",
   "name": "python",
   "nbconvert_exporter": "python",
   "pygments_lexer": "ipython2",
   "version": "2.7.6"
  }
 },
 "nbformat": 4,
 "nbformat_minor": 0
}
