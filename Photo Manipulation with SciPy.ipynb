{
 "cells": [
  {
   "cell_type": "code",
   "execution_count": null,
   "metadata": {
    "collapsed": false
   },
   "outputs": [],
   "source": [
    "import numpy as np\n",
    "import matplotlib.pyplot as plt\n",
    "\n",
    "from PIL import Image\n",
    "from scipy.ndimage import filters\n",
    "import imtools\n",
    "%matplotlib inline"
   ]
  },
  {
   "cell_type": "code",
   "execution_count": null,
   "metadata": {
    "collapsed": false
   },
   "outputs": [],
   "source": [
    "# Gaussian Blur Example\n",
    "NUM_CHANNELS = 3\n",
    "\n",
    "img_path = 'images/at_large.jpg'\n",
    "img = Image.open(img_path)\n",
    "\n",
    "image_array = np.array(img)\n",
    "filtered_image_array = np.zeros(image_array.shape)\n",
    "theta = 10\n",
    "for i in range(NUM_CHANNELS):\n",
    "    filtered_image_array[:,:,i] = filters.gaussian_filter(image_array[:,:,i], theta)\n",
    "\n",
    "filtered_image_array = np.uint8(filtered_image_array)    \n",
    "    \n",
    "plt.imshow(filtered_image_array)\n",
    "plt.show()"
   ]
  },
  {
   "cell_type": "code",
   "execution_count": null,
   "metadata": {
    "collapsed": true
   },
   "outputs": [],
   "source": []
  }
 ],
 "metadata": {
  "kernelspec": {
   "display_name": "Python 2",
   "language": "python",
   "name": "python2"
  },
  "language_info": {
   "codemirror_mode": {
    "name": "ipython",
    "version": 2
   },
   "file_extension": ".py",
   "mimetype": "text/x-python",
   "name": "python",
   "nbconvert_exporter": "python",
   "pygments_lexer": "ipython2",
   "version": "2.7.6"
  }
 },
 "nbformat": 4,
 "nbformat_minor": 0
}
