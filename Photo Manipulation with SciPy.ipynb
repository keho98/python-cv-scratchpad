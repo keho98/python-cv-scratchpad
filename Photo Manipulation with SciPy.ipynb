{
 "cells": [
  {
   "cell_type": "code",
   "execution_count": null,
   "metadata": {
    "collapsed": false
   },
   "outputs": [],
   "source": [
    "import numpy as np\n",
    "import matplotlib.pyplot as plt\n",
    "\n",
    "from PIL import Image\n",
    "from scipy.ndimage import filters\n",
    "import imtools\n",
    "%matplotlib inline\n",
    "\n",
    "img_path = 'images/at_large.jpg'"
   ]
  },
  {
   "cell_type": "code",
   "execution_count": null,
   "metadata": {
    "collapsed": false
   },
   "outputs": [],
   "source": [
    "# Compute Average\n",
    "def compute_average(image_list):\n",
    "    \"\"\" Compute the average of a list of images \"\"\"\n",
    "    # check that all elements are the same size\n",
    "    images = np.array([Image.open(image) for image in image_list], 'f') \n",
    "    average_img = images[0]\n",
    "    if all(len(img) == len(images[0]) for img in image):\n",
    "        for img in images[1:]:\n",
    "            average_img += img\n",
    "        average_img /= len(images)\n",
    "        return array(average_img, 'uint8')\n",
    "    else:\n",
    "        return nil"
   ]
  },
  {
   "cell_type": "code",
   "execution_count": null,
   "metadata": {
    "collapsed": false
   },
   "outputs": [],
   "source": [
    "# Gaussian Blur Example\n",
    "NUM_CHANNELS = 3\n",
    "\n",
    "img = Image.open(img_path)\n",
    "\n",
    "image_array = np.array(img)\n",
    "filtered_image_array = np.zeros(image_array.shape)\n",
    "theta = 8\n",
    "for i in range(NUM_CHANNELS):\n",
    "    filtered_image_array[:,:,i] = filters.gaussian_filter(image_array[:,:,i], theta)\n",
    "\n",
    "filtered_image_array = np.uint8(filtered_image_array)    \n",
    "    \n",
    "plt.imshow(filtered_image_array)\n",
    "plt.show()"
   ]
  },
  {
   "cell_type": "code",
   "execution_count": null,
   "metadata": {
    "collapsed": false
   },
   "outputs": [],
   "source": [
    "# Image Derivatives\n",
    "# Describe how intensity changes over the image\n",
    "\n",
    "# Calculate x and y derivate approximations with sobel filters\n",
    "image_array = np.array(Image.open(img_path).convert('L'))\n",
    "image_x = np.zeros(image_array.shape)\n",
    "\n",
    "filters.sobel(image_array, 1, image_x)\n",
    "\n",
    "image_y = np.zeros(image_array.shape)\n",
    "filters.sobel(image_array, 0, image_y)\n",
    "\n",
    "# Calculate gradient magnitude, which describes intensity change\n",
    "magnitude = np.sqrt(image_x**2+image_y**2)\n",
    "\n",
    "plt.gray();\n",
    "\n",
    "plt.figure()\n",
    "plt.imshow(image_array)\n",
    "\n",
    "plt.figure()\n",
    "plt.imshow(image_x)\n",
    "\n",
    "plt.figure()\n",
    "plt.imshow(image_y)\n",
    "\n",
    "plt.figure()\n",
    "plt.imshow(magnitude)\n",
    "\n",
    "plt.show()\n"
   ]
  },
  {
   "cell_type": "code",
   "execution_count": null,
   "metadata": {
    "collapsed": false
   },
   "outputs": [],
   "source": [
    "# Using gaussian filters is more robust \n",
    "# and computes derivatives without respect to scale\n",
    "img = np.array(Image.open(img_path).convert('L'))\n",
    "\n",
    "sigma = 5\n",
    "imx = np.zeros(img.shape)\n",
    "filters.gaussian_filter(img, (sigma,sigma), (0,1), imx)\n",
    "\n",
    "imy = np.zeros(img.shape)\n",
    "filters.gaussian_filter(img, (sigma,sigma), (1,0), imy)\n",
    "\n",
    "plt.gray();\n",
    "\n",
    "plt.figure()\n",
    "plt.imshow(imx)\n",
    "\n",
    "plt.figure()\n",
    "plt.imshow(imy)"
   ]
  },
  {
   "cell_type": "code",
   "execution_count": null,
   "metadata": {
    "collapsed": false,
    "scrolled": false
   },
   "outputs": [],
   "source": [
    "# Morphology Example\n",
    "# Methods for measuring and analyzing basic shapes\n",
    "from scipy.ndimage import measurements, morphology\n",
    "\n",
    "img = np.array(Image.open('images/houses.png').convert('L'))\n",
    "\n",
    "plt.gray();\n",
    "\n",
    "plt.figure()\n",
    "plt.imshow(img)\n",
    "\n",
    "img = 1*(img<128)\n",
    "\n",
    "plt.figure()\n",
    "plt.imshow(img)\n",
    "\n",
    "labels, num_objects = measurements.label(img)\n",
    "print 'Number of objects: ', num_objects\n",
    "\n",
    "plt.figure()\n",
    "plt.imshow(labels)\n",
    "\n",
    "# morphology - opening to separate objects better\n",
    "# 9, 5 specifies neighbors to use for a given pixel, and then the number of iterations\n",
    "# http://docs.scipy.org/doc/scipy/reference/ndimage.html\n",
    "\n",
    "im_open = morphology.binary_opening(img,np.ones((9,5)),iterations=2)\n",
    "\n",
    "labels_open, num_objects_open = measurements.label(im_open)\n",
    "plt.figure()\n",
    "plt.imshow(labels_open)\n",
    "\n",
    "print 'Number of objects: ', num_objects_open\n",
    "\n",
    "\n"
   ]
  },
  {
   "cell_type": "code",
   "execution_count": null,
   "metadata": {
    "collapsed": false
   },
   "outputs": [],
   "source": [
    "# Image De-noising\n",
    "# ROF Model - Smoother images while preserving edges and structures\n",
    "def denoise(img, U_init, tolerance=0.1, tau=0.125, tv_weight=100):\n",
    "    \"\"\" An implementation of the Rudin-Osher-Fatemi (ROF) denoising model\n",
    "    using the numerical procedure presented in eq (11) A. Chambolle (2005).\n",
    "    Input: noisy input image (grayscale), initial guess for U, weight of the TV-regularizing term, steplength, tolerance for stop criterion.\n",
    "    Output: denoised and detextured image, texture residual. \"\"\"\n",
    "    m, n = img.shape\n",
    "    #Init\n",
    "    U = U_init\n",
    "    Px = img\n",
    "    Py = img\n",
    "    error = 1\n",
    "    \n",
    "    while(error > tolerance):\n",
    "        Uold = U\n",
    "        \n",
    "        # gradient of primal variable\n",
    "        GradUx = np.roll(U, -1, axis=1)\n",
    "        GradUy = np.roll(U, -1, axis=0)\n",
    "        \n",
    "        # update the dual varible\n",
    "        PxNew = Px + (tau/tv_weight)*GradUx\n",
    "        PyNew = Py + (tau/tv_weight)*GradUy\n",
    "        NormNew = np.maximum(1,np.sqrt(PxNew**2+PyNew**2))\n",
    "        \n",
    "        # update of x-component (dual) \n",
    "        Px = PxNew/NormNew \n",
    "        \n",
    "        # update of y-component (dual)\n",
    "        Py = PyNew/NormNew \n",
    "        \n",
    "        # update the primal variable\n",
    "        RxPx = np.roll(Px,1,axis=1) # right x-translation of x-component\n",
    "        RyPy = np.roll(Py,1,axis=0) # right y-translation of y-component\n",
    "\n",
    "        DivP = (Px-RxPx)+(Py-RyPy) # divergence of the dual field. \n",
    "        U = img + tv_weight*DivP # update of the primal variable\n",
    "        \n",
    "        # update of error\n",
    "        error = np.linalg.norm(U-Uold)/np.sqrt(n*m);\n",
    "        \n",
    "    return U, img-U\n",
    "            \n",
    "import scipy.misc\n",
    "\n",
    "img = scipy.misc.lena()\n",
    "noised_img = img + 30 * np.random.standard_normal(img.shape)\n",
    "\n",
    "plt.figure()\n",
    "plt.imshow(img)\n",
    "\n",
    "plt.figure()\n",
    "plt.imshow(noised_img)\n",
    "\n",
    "U,T = denoise(noised_img, noised_img)\n",
    "\n",
    "plt.figure()\n",
    "plt.imshow(U)\n",
    "\n",
    "\n",
    "\n"
   ]
  },
  {
   "cell_type": "code",
   "execution_count": null,
   "metadata": {
    "collapsed": true
   },
   "outputs": [],
   "source": []
  },
  {
   "cell_type": "code",
   "execution_count": null,
   "metadata": {
    "collapsed": true
   },
   "outputs": [],
   "source": []
  }
 ],
 "metadata": {
  "kernelspec": {
   "display_name": "Python 2",
   "language": "python",
   "name": "python2"
  },
  "language_info": {
   "codemirror_mode": {
    "name": "ipython",
    "version": 2
   },
   "file_extension": ".py",
   "mimetype": "text/x-python",
   "name": "python",
   "nbconvert_exporter": "python",
   "pygments_lexer": "ipython2",
   "version": "2.7.6"
  }
 },
 "nbformat": 4,
 "nbformat_minor": 0
}
