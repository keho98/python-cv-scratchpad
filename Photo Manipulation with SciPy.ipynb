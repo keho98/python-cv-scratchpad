{
 "cells": [
  {
   "cell_type": "code",
   "execution_count": null,
   "metadata": {
    "collapsed": false
   },
   "outputs": [],
   "source": [
    "import numpy as np\n",
    "import matplotlib.pyplot as plt\n",
    "\n",
    "from PIL import Image\n",
    "from scipy.ndimage import filters\n",
    "import imtools\n",
    "%matplotlib inline\n",
    "\n",
    "img_path = 'images/at_large.jpg'"
   ]
  },
  {
   "cell_type": "code",
   "execution_count": null,
   "metadata": {
    "collapsed": true
   },
   "outputs": [],
   "source": [
    "# Compute Average\n",
    "def compute_average(image_list):\n",
    "    \"\"\" Compute the average of a list of images \"\"\"\n",
    "    # check that all elements are the same size\n",
    "    images = np.array(Image.open(image), 'f') for image in image_list\n",
    "    average_img = images[0]\n",
    "    if all(len(img) == len(images[0]) for img in image):\n",
    "        for img in images[1:]:\n",
    "            average_img += img\n",
    "        average_img /= len(images)\n",
    "        return array(average_img, 'uint8')\n",
    "    else:\n",
    "        return nil"
   ]
  },
  {
   "cell_type": "code",
   "execution_count": null,
   "metadata": {
    "collapsed": false
   },
   "outputs": [],
   "source": [
    "# Gaussian Blur Example\n",
    "NUM_CHANNELS = 3\n",
    "\n",
    "img = Image.open(img_path)\n",
    "\n",
    "image_array = np.array(img)\n",
    "filtered_image_array = np.zeros(image_array.shape)\n",
    "theta = 8\n",
    "for i in range(NUM_CHANNELS):\n",
    "    filtered_image_array[:,:,i] = filters.gaussian_filter(image_array[:,:,i], theta)\n",
    "\n",
    "filtered_image_array = np.uint8(filtered_image_array)    \n",
    "    \n",
    "plt.imshow(filtered_image_array)\n",
    "plt.show()"
   ]
  },
  {
   "cell_type": "code",
   "execution_count": null,
   "metadata": {
    "collapsed": false
   },
   "outputs": [],
   "source": [
    "# Image Derivative Example\n",
    "image_array = np.array(Image.open(img_path).convert('L'))\n",
    "image_x = np.zeros(image_array.shape)\n",
    "\n",
    "filters.sobel(image_array, 1, image_x)\n",
    "\n",
    "image_y = np.zeros(image_array.shape)\n",
    "filters.sobel(image_array, 0, image_y)\n",
    "\n",
    "magnitude = np.sqrt(image_x**2+image_y**2)\n",
    "\n",
    "plt.gray();\n",
    "\n",
    "plt.figure()\n",
    "plt.imshow(image_array)\n",
    "\n",
    "plt.figure()\n",
    "plt.imshow(image_x)\n",
    "\n",
    "plt.figure()\n",
    "plt.imshow(image_y)\n",
    "\n",
    "plt.figure()\n",
    "plt.imshow(magnitude)\n",
    "\n",
    "plt.show()\n"
   ]
  },
  {
   "cell_type": "code",
   "execution_count": null,
   "metadata": {
    "collapsed": true
   },
   "outputs": [],
   "source": []
  }
 ],
 "metadata": {
  "kernelspec": {
   "display_name": "Python 2",
   "language": "python",
   "name": "python2"
  },
  "language_info": {
   "codemirror_mode": {
    "name": "ipython",
    "version": 2
   },
   "file_extension": ".py",
   "mimetype": "text/x-python",
   "name": "python",
   "nbconvert_exporter": "python",
   "pygments_lexer": "ipython2",
   "version": "2.7.6"
  }
 },
 "nbformat": 4,
 "nbformat_minor": 0
}
