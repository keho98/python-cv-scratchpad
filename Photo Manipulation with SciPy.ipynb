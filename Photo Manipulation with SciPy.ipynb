{
 "cells": [
  {
   "cell_type": "code",
   "execution_count": null,
   "metadata": {
    "collapsed": false
   },
   "outputs": [],
   "source": [
    "import numpy as np\n",
    "import matplotlib.pyplot as plt\n",
    "\n",
    "from PIL import Image\n",
    "from scipy.ndimage import filters\n",
    "import imtools\n",
    "%matplotlib inline\n",
    "\n",
    "img_path = 'images/at_large.jpg'"
   ]
  },
  {
   "cell_type": "code",
   "execution_count": null,
   "metadata": {
    "collapsed": true
   },
   "outputs": [],
   "source": [
    "# Compute Average\n",
    "def compute_average(image_list):\n",
    "    \"\"\" Compute the average of a list of images \"\"\"\n",
    "    # check that all elements are the same size\n",
    "    images = np.array(Image.open(image), 'f') for image in image_list\n",
    "    average_img = images[0]\n",
    "    if all(len(img) == len(images[0]) for img in image):\n",
    "        for img in images[1:]:\n",
    "            average_img += img\n",
    "        average_img /= len(images)\n",
    "        return array(average_img, 'uint8')\n",
    "    else:\n",
    "        return nil"
   ]
  },
  {
   "cell_type": "code",
   "execution_count": null,
   "metadata": {
    "collapsed": false
   },
   "outputs": [],
   "source": [
    "# Gaussian Blur Example\n",
    "NUM_CHANNELS = 3\n",
    "\n",
    "img = Image.open(img_path)\n",
    "\n",
    "image_array = np.array(img)\n",
    "filtered_image_array = np.zeros(image_array.shape)\n",
    "theta = 8\n",
    "for i in range(NUM_CHANNELS):\n",
    "    filtered_image_array[:,:,i] = filters.gaussian_filter(image_array[:,:,i], theta)\n",
    "\n",
    "filtered_image_array = np.uint8(filtered_image_array)    \n",
    "    \n",
    "plt.imshow(filtered_image_array)\n",
    "plt.show()"
   ]
  },
  {
   "cell_type": "code",
   "execution_count": null,
   "metadata": {
    "collapsed": false
   },
   "outputs": [],
   "source": [
    "# Image Derivatives\n",
    "# Describe how intensity changes over the image\n",
    "\n",
    "# Calculate x and y derivate approximations with sobel filters\n",
    "image_array = np.array(Image.open(img_path).convert('L'))\n",
    "image_x = np.zeros(image_array.shape)\n",
    "\n",
    "filters.sobel(image_array, 1, image_x)\n",
    "\n",
    "image_y = np.zeros(image_array.shape)\n",
    "filters.sobel(image_array, 0, image_y)\n",
    "\n",
    "# Calculate gradient magnitude, which describes intensity change\n",
    "magnitude = np.sqrt(image_x**2+image_y**2)\n",
    "\n",
    "plt.gray();\n",
    "\n",
    "plt.figure()\n",
    "plt.imshow(image_array)\n",
    "\n",
    "plt.figure()\n",
    "plt.imshow(image_x)\n",
    "\n",
    "plt.figure()\n",
    "plt.imshow(image_y)\n",
    "\n",
    "plt.figure()\n",
    "plt.imshow(magnitude)\n",
    "\n",
    "plt.show()\n"
   ]
  },
  {
   "cell_type": "code",
   "execution_count": null,
   "metadata": {
    "collapsed": false
   },
   "outputs": [],
   "source": [
    "# Using gaussian filters is more robust \n",
    "# and computes derivatives without respect to scale\n",
    "img = np.array(Image.open(img_path).convert('L'))\n",
    "\n",
    "sigma = 5\n",
    "imx = np.zeros(img.shape)\n",
    "filters.gaussian_filter(img, (sigma,sigma), (0,1), imx)\n",
    "\n",
    "imy = np.zeros(img.shape)\n",
    "filters.gaussian_filter(img, (sigma,sigma), (1,0), imy)\n",
    "\n",
    "plt.gray();\n",
    "\n",
    "plt.figure()\n",
    "plt.imshow(imx)\n",
    "\n",
    "plt.figure()\n",
    "plt.imshow(imy)"
   ]
  },
  {
   "cell_type": "code",
   "execution_count": null,
   "metadata": {
    "collapsed": false,
    "scrolled": false
   },
   "outputs": [],
   "source": [
    "# Morphology Example\n",
    "# Methods for measuring and analyzing basic shapes\n",
    "from scipy.ndimage import measurements, morphology\n",
    "\n",
    "img = np.array(Image.open('images/houses.png').convert('L'))\n",
    "\n",
    "plt.gray();\n",
    "\n",
    "plt.figure()\n",
    "plt.imshow(img)\n",
    "\n",
    "img = 1*(img<128)\n",
    "\n",
    "plt.figure()\n",
    "plt.imshow(img)\n",
    "\n",
    "labels, num_objects = measurements.label(img)\n",
    "print 'Number of objects: ', num_objects\n",
    "\n",
    "plt.figure()\n",
    "plt.imshow(labels)\n",
    "\n",
    "# morphology - opening to separate objects better\n",
    "# 9, 5 specifies neighbors to use for a given pixel, and then the number of iterations\n",
    "# http://docs.scipy.org/doc/scipy/reference/ndimage.html\n",
    "\n",
    "im_open = morphology.binary_opening(img,np.ones((9,5)),iterations=2)\n",
    "\n",
    "labels_open, num_objects_open = measurements.label(im_open)\n",
    "plt.figure()\n",
    "plt.imshow(labels_open)\n",
    "\n",
    "print 'Number of objects: ', num_objects_open\n",
    "\n",
    "\n"
   ]
  },
  {
   "cell_type": "code",
   "execution_count": null,
   "metadata": {
    "collapsed": true
   },
   "outputs": [],
   "source": []
  }
 ],
 "metadata": {
  "kernelspec": {
   "display_name": "Python 2",
   "language": "python",
   "name": "python2"
  },
  "language_info": {
   "codemirror_mode": {
    "name": "ipython",
    "version": 2
   },
   "file_extension": ".py",
   "mimetype": "text/x-python",
   "name": "python",
   "nbconvert_exporter": "python",
   "pygments_lexer": "ipython2",
   "version": "2.7.6"
  }
 },
 "nbformat": 4,
 "nbformat_minor": 0
}
