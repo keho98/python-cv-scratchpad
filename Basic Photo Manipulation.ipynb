{
 "cells": [
  {
   "cell_type": "code",
   "execution_count": null,
   "metadata": {
    "collapsed": false
   },
   "outputs": [],
   "source": [
    "import numpy as np\n",
    "import matplotlib.pyplot as plt\n",
    "\n",
    "from PIL import Image\n",
    "import imtools\n",
    "%matplotlib inline"
   ]
  },
  {
   "cell_type": "code",
   "execution_count": null,
   "metadata": {
    "collapsed": false
   },
   "outputs": [],
   "source": [
    "# Basic Rendering Example\n",
    "img_path = 'images/at_large.jpg'\n",
    "img = Image.open(img_path)\n",
    "\n",
    "plt.imshow(img)\n",
    "\n",
    "x = [100,100,400,400]\n",
    "y = [200,500,200,500]\n",
    "\n",
    "plt.plot(x,y, 'r*')\n",
    "plt.plot(x[:2],y[:2])\n",
    "\n",
    "plt.axis('off')\n",
    "\n",
    "plt.show()"
   ]
  },
  {
   "cell_type": "code",
   "execution_count": null,
   "metadata": {
    "collapsed": false
   },
   "outputs": [],
   "source": [
    "# Contour Plots\n",
    "img_array = np.array(Image.open(img_path).convert('L')) # Get a grayscale array\n",
    "\n",
    "plt.figure()\n",
    "plt.gray()\n",
    "plt.contour(img_array, origin='image')\n",
    "plt.axis('equal')\n",
    "plt.axis('off')\n",
    "\n",
    "plt.figure()\n",
    "plt.hist(img_array.flatten(), 128)\n",
    "\n",
    "plt.show()"
   ]
  },
  {
   "cell_type": "code",
   "execution_count": null,
   "metadata": {
    "collapsed": false
   },
   "outputs": [],
   "source": [
    "# Histogram Equalization\n",
    "img_path = 'images/at_large.jpg'\n",
    "img_array = np.array(Image.open(img_path).convert('L'))\n",
    "\n",
    "plt.figure()\n",
    "plt.gray()\n",
    "plt.axis('off')\n",
    "plt.imshow(img_array)\n",
    "\n",
    "plt.figure()\n",
    "img2, cdf = imtools.histeq(img_array)\n",
    "plt.imshow(img2)\n",
    "plt.axis('off')\n",
    "\n",
    "plt.show()"
   ]
  },
  {
   "cell_type": "code",
   "execution_count": null,
   "metadata": {
    "collapsed": true
   },
   "outputs": [],
   "source": []
  }
 ],
 "metadata": {
  "kernelspec": {
   "display_name": "Python 2",
   "language": "python",
   "name": "python2"
  },
  "language_info": {
   "codemirror_mode": {
    "name": "ipython",
    "version": 2
   },
   "file_extension": ".py",
   "mimetype": "text/x-python",
   "name": "python",
   "nbconvert_exporter": "python",
   "pygments_lexer": "ipython2",
   "version": "2.7.6"
  }
 },
 "nbformat": 4,
 "nbformat_minor": 0
}
